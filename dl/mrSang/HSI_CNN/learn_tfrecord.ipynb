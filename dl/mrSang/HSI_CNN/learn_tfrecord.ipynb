{
 "cells": [
  {
   "cell_type": "code",
   "execution_count": 1,
   "metadata": {},
   "outputs": [],
   "source": [
    "import tensorflow as tf"
   ]
  },
  {
   "cell_type": "code",
   "execution_count": 2,
   "metadata": {},
   "outputs": [],
   "source": [
    "movie_name_list = tf.train.BytesList(value=[b'The Shawshank Redemption', b'Fight Club'])\n",
    "movie_rating_list = tf.train.FloatList(value=[9.0, 9.7])\n"
   ]
  },
  {
   "cell_type": "code",
   "execution_count": 3,
   "metadata": {},
   "outputs": [
    {
     "data": {
      "text/plain": [
       "value: \"The Shawshank Redemption\"\n",
       "value: \"Fight Club\""
      ]
     },
     "execution_count": 3,
     "metadata": {},
     "output_type": "execute_result"
    }
   ],
   "source": [
    "movie_name_list"
   ]
  },
  {
   "cell_type": "code",
   "execution_count": 9,
   "metadata": {},
   "outputs": [],
   "source": [
    "movie_name = tf.train.Feature(bytes_list=movie_name_list)\n",
    "movie_ratings = tf.train.Feature(float_list=movie_rating_list)"
   ]
  },
  {
   "cell_type": "code",
   "execution_count": 10,
   "metadata": {},
   "outputs": [
    {
     "data": {
      "text/plain": [
       "bytes_list {\n",
       "  value: \"The Shawshank Redemption\"\n",
       "  value: \"Fight Club\"\n",
       "}"
      ]
     },
     "execution_count": 10,
     "metadata": {},
     "output_type": "execute_result"
    }
   ],
   "source": [
    "movie_name"
   ]
  },
  {
   "cell_type": "code",
   "execution_count": 13,
   "metadata": {},
   "outputs": [],
   "source": [
    "movie_dict = {\n",
    "    \"Movie Names\": movie_name,\n",
    "    \"Movie Ratings\": movie_ratings\n",
    "}\n",
    "movie = tf.train.Features(feature=movie_dict)"
   ]
  },
  {
   "cell_type": "code",
   "execution_count": 15,
   "metadata": {},
   "outputs": [],
   "source": [
    "example = tf.train.Example(features=movie)"
   ]
  },
  {
   "cell_type": "code",
   "execution_count": 16,
   "metadata": {},
   "outputs": [
    {
     "data": {
      "text/plain": [
       "features {\n",
       "  feature {\n",
       "    key: \"Movie Names\"\n",
       "    value {\n",
       "      bytes_list {\n",
       "        value: \"The Shawshank Redemption\"\n",
       "        value: \"Fight Club\"\n",
       "      }\n",
       "    }\n",
       "  }\n",
       "  feature {\n",
       "    key: \"Movie Ratings\"\n",
       "    value {\n",
       "      float_list {\n",
       "        value: 9.0\n",
       "        value: 9.699999809265137\n",
       "      }\n",
       "    }\n",
       "  }\n",
       "}"
      ]
     },
     "execution_count": 16,
     "metadata": {},
     "output_type": "execute_result"
    }
   ],
   "source": [
    "example"
   ]
  },
  {
   "cell_type": "code",
   "execution_count": 21,
   "metadata": {},
   "outputs": [
    {
     "name": "stdout",
     "output_type": "stream",
     "text": [
      "{'Age': 29, 'Movie': ['The Shawshank Redemption', 'Fight Club'], 'Movie Ratings': [9.0, 9.7], 'Suggestion': 'Inception', 'Suggestion Purchased': 1.0, 'Purchase Price': 9.99}\n"
     ]
    }
   ],
   "source": [
    "# Create example data\n",
    "data = {\n",
    "    'Age': 29,\n",
    "    'Movie': ['The Shawshank Redemption', 'Fight Club'],\n",
    "    'Movie Ratings': [9.0, 9.7],\n",
    "    'Suggestion': 'Inception',\n",
    "    'Suggestion Purchased': 1.0,\n",
    "    'Purchase Price': 9.99\n",
    "}\n",
    "\n",
    "print(data)"
   ]
  },
  {
   "cell_type": "code",
   "execution_count": 36,
   "metadata": {},
   "outputs": [],
   "source": [
    "example = tf.train.Example(features=tf.train.Features(feature={\n",
    "    'Age': tf.train.Feature(int64_list=tf.train.Int64List(value=[data['Age']])),\n",
    "    'Movie': tf.train.Feature(bytes_list=tf.train.BytesList(value=[m.encode('utf-8') for m in data[\"Movie\"]])),\n",
    "    'Movie Ratings': tf.train.Feature(float_list=tf.train.FloatList(value=data[\"Movie Ratings\"])),\n",
    "    'Suggestion': tf.train.Feature(bytes_list=tf.train.BytesList(value=[data[\"Suggestion\"].encode(\"utf-8\")])),\n",
    "    'Suggestion Purchased': tf.train.Feature(float_list=tf.train.FloatList(value=[data[\"Suggestion Purchased\"]])),\n",
    "    'Purchase Price': tf.train.Feature(float_list=tf.train.FloatList(value=[data[\"Purchase Price\"]]))\n",
    "    \n",
    "}))"
   ]
  },
  {
   "cell_type": "code",
   "execution_count": 37,
   "metadata": {
    "collapsed": true
   },
   "outputs": [
    {
     "data": {
      "text/plain": [
       "features {\n",
       "  feature {\n",
       "    key: \"Age\"\n",
       "    value {\n",
       "      int64_list {\n",
       "        value: 29\n",
       "      }\n",
       "    }\n",
       "  }\n",
       "  feature {\n",
       "    key: \"Movie\"\n",
       "    value {\n",
       "      bytes_list {\n",
       "        value: \"The Shawshank Redemption\"\n",
       "        value: \"Fight Club\"\n",
       "      }\n",
       "    }\n",
       "  }\n",
       "  feature {\n",
       "    key: \"Movie Ratings\"\n",
       "    value {\n",
       "      float_list {\n",
       "        value: 9.0\n",
       "        value: 9.699999809265137\n",
       "      }\n",
       "    }\n",
       "  }\n",
       "  feature {\n",
       "    key: \"Purchase Price\"\n",
       "    value {\n",
       "      float_list {\n",
       "        value: 9.989999771118164\n",
       "      }\n",
       "    }\n",
       "  }\n",
       "  feature {\n",
       "    key: \"Suggestion\"\n",
       "    value {\n",
       "      bytes_list {\n",
       "        value: \"Inception\"\n",
       "      }\n",
       "    }\n",
       "  }\n",
       "  feature {\n",
       "    key: \"Suggestion Purchased\"\n",
       "    value {\n",
       "      float_list {\n",
       "        value: 1.0\n",
       "      }\n",
       "    }\n",
       "  }\n",
       "}"
      ]
     },
     "execution_count": 37,
     "metadata": {},
     "output_type": "execute_result"
    }
   ],
   "source": [
    "example"
   ]
  },
  {
   "cell_type": "code",
   "execution_count": 39,
   "metadata": {},
   "outputs": [],
   "source": [
    "with tf.python_io.TFRecordWriter(\"costomer_1.tfrecord\") as writer:\n",
    "    writer.write(example.SerializeToString())"
   ]
  },
  {
   "cell_type": "code",
   "execution_count": 46,
   "metadata": {},
   "outputs": [
    {
     "name": "stdout",
     "output_type": "stream",
     "text": [
      "Movie SparseTensorValue(indices=array([[0],\n",
      "       [1]]), values=array([b'The Shawshank Redemption', b'Fight Club'], dtype=object), dense_shape=array([2]))\n",
      "Movie Ratings SparseTensorValue(indices=array([[0],\n",
      "       [1]]), values=array([9. , 9.7], dtype=float32), dense_shape=array([2]))\n",
      "Age 29\n",
      "Purchase Price 9.99\n",
      "Suggestion b'Inception'\n",
      "Suggestion Purchased 1.0\n"
     ]
    }
   ],
   "source": [
    "sess = tf.InteractiveSession()\n",
    "reader = tf.TFRecordReader()\n",
    "filename_queue = tf.train.string_input_producer([\"costomer_1.tfrecord\"])\n",
    "_, serialized_example = reader.read(filename_queue)\n",
    "\n",
    "read_features = {\n",
    "    'Age': tf.FixedLenFeature([], dtype=tf.int64),\n",
    "    'Movie': tf.VarLenFeature(dtype=tf.string),\n",
    "    'Movie Ratings': tf.VarLenFeature(dtype=tf.float32),\n",
    "    'Suggestion': tf.FixedLenFeature([], dtype=tf.string),\n",
    "    'Suggestion Purchased': tf.FixedLenFeature([], tf.float32),\n",
    "    \"Purchase Price\": tf.FixedLenFeature([], tf.float32)\n",
    "}\n",
    "\n",
    "read_data = tf.parse_single_example(serialized=serialized_example, features=read_features)\n",
    "tf.train.start_queue_runners(sess)\n",
    "\n",
    "for name, tensor in read_data.items():\n",
    "    print(name, tensor.eval())"
   ]
  },
  {
   "cell_type": "code",
   "execution_count": 47,
   "metadata": {},
   "outputs": [],
   "source": [
    "dataset = tf.data.TFRecordDataset(\"costomer_1.tfrecord\")"
   ]
  },
  {
   "cell_type": "code",
   "execution_count": 52,
   "metadata": {},
   "outputs": [],
   "source": [
    "dataset.map(lambda x: x.)"
   ]
  },
  {
   "cell_type": "code",
   "execution_count": null,
   "metadata": {},
   "outputs": [],
   "source": []
  }
 ],
 "metadata": {
  "kernelspec": {
   "display_name": "Python 3",
   "language": "python",
   "name": "python3"
  },
  "language_info": {
   "codemirror_mode": {
    "name": "ipython",
    "version": 3
   },
   "file_extension": ".py",
   "mimetype": "text/x-python",
   "name": "python",
   "nbconvert_exporter": "python",
   "pygments_lexer": "ipython3",
   "version": "3.6.7"
  }
 },
 "nbformat": 4,
 "nbformat_minor": 2
}
