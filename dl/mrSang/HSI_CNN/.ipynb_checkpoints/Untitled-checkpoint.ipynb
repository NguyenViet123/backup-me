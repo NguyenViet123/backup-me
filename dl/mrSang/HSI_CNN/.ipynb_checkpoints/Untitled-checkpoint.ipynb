{
 "cells": [
  {
   "cell_type": "code",
   "execution_count": 76,
   "metadata": {},
   "outputs": [],
   "source": [
    "import scipy.io\n",
    "import numpy as np\n",
    "from random import shuffle\n",
    "import random\n",
    "import scipy.ndimage\n",
    "from skimage.util import pad\n",
    "import os\n",
    "import time\n",
    "import pandas as pd\n",
    "import math\n",
    "\n"
   ]
  },
  {
   "cell_type": "code",
   "execution_count": 77,
   "metadata": {},
   "outputs": [],
   "source": [
    "start_time = time.time()\n",
    "patch_size = 9\n",
    "data = scipy.io.loadmat('data/Indian_pines.mat')['indian_pines']\n",
    "labels = scipy.io.loadmat('data/Indian_pines_gt.mat')['indian_pines_gt']\n",
    "data = np.array(data.astype(float))\n",
    "height, width, band = data.shape[0], data.shape[1], data.shape[2]\n"
   ]
  },
  {
   "cell_type": "code",
   "execution_count": 78,
   "metadata": {},
   "outputs": [],
   "source": [
    "data_padding = np.zeros((height + int(patch_size-1), \n",
    "                         width + int(patch_size-1), \n",
    "                         band))\n",
    "\n",
    "for band in range(band):\n",
    "    data[:, :, band] = (data[:,:,band] - np.min(data[:,:,band]))/(\n",
    "        np.max(data[:,:,band]) - np.min(data[:,:,band]))\n",
    "    data_padding[:, :, band] = pad(data[:, :, band], \n",
    "                                   int((patch_size-1)/2), \n",
    "                                   mode='symmetric')\n",
    "\n"
   ]
  },
  {
   "cell_type": "code",
   "execution_count": 84,
   "metadata": {},
   "outputs": [],
   "source": [
    "transpose_arr = np.transpose(data_padding)\n",
    "def patch(width_idx, height_idx):\n",
    "    height_slice = slice(height_idx, height_idx+patch_size)\n",
    "    width_slice = slice(width_idx, width_idx+patch_size)\n",
    "    patch = transpose_arr[:, width_slice, height_idx]\n",
    "    return np.array(patch)"
   ]
  },
  {
   "cell_type": "code",
   "execution_count": 97,
   "metadata": {},
   "outputs": [],
   "source": [
    "num_classes = len(np.unique(all_labels)) - 1\n",
    "classes, classes_idx = [], []\n",
    "all_patches, all_labels = [], []\n",
    "for i in range(num_classes):\n",
    "    classes.append([])\n",
    "    classes_idx.append([])\n",
    "\n",
    "for i in range(0, width):\n",
    "    for j in range(0, height):\n",
    "        patch_tmp = patch(i, j)\n",
    "        idx = i * width + j\n",
    "        all_patches.append(patch)\n",
    "        all_labels.append(labels[i, j])\n",
    "        if labels[i, j] != 0:\n",
    "            classes[labels[i, j]-1].append(patch_tmp)\n",
    "            classes_idx[labels[i, j]-1].append(idx)\n",
    "all_patches = np.array(all_patches)\n",
    "all_labels = np.array(all_labels)\n",
    "classes = np.array(classes)\n",
    "classes_idx = np.array(classes_idx)\n"
   ]
  },
  {
   "cell_type": "code",
   "execution_count": 101,
   "metadata": {},
   "outputs": [],
   "source": [
    "def data_div(class_k, classes_idx_k,num_train_class_k):\n",
    "    np.random.seed(0)\n",
    "    idx = np.random.choice(len(class_k), num_train_class_k, replace=False)\n",
    "    train_patch = [class_k[i] for i in idx]\n",
    "    train_idx = [classes_idx_k[i] for i in idx]\n",
    "    idx_test = np.setdiff1d(range(len(class_k)), idx)\n",
    "    test_patch = [class_k[i] for i in idx_test]\n",
    "    test_idx = [classes_idx_k[i] for i in idx_test]\n",
    "    return train_patch, train_idx, test_patch, test_idx\n"
   ]
  },
  {
   "cell_type": "code",
   "execution_count": 103,
   "metadata": {},
   "outputs": [
    {
     "ename": "TypeError",
     "evalue": "'float' object cannot be interpreted as an integer",
     "output_type": "error",
     "traceback": [
      "\u001b[0;31m---------------------------------------------------------------------------\u001b[0m",
      "\u001b[0;31mTypeError\u001b[0m                                 Traceback (most recent call last)",
      "\u001b[0;32m<ipython-input-103-6a1348632fcd>\u001b[0m in \u001b[0;36m<module>\u001b[0;34m\u001b[0m\n\u001b[1;32m      4\u001b[0m         \u001b[0mclass_k\u001b[0m\u001b[0;34m=\u001b[0m\u001b[0mclasses\u001b[0m\u001b[0;34m[\u001b[0m\u001b[0mi\u001b[0m\u001b[0;34m]\u001b[0m\u001b[0;34m,\u001b[0m\u001b[0;34m\u001b[0m\u001b[0;34m\u001b[0m\u001b[0m\n\u001b[1;32m      5\u001b[0m         \u001b[0mclasses_idx_k\u001b[0m\u001b[0;34m=\u001b[0m\u001b[0mclasses_idx\u001b[0m\u001b[0;34m[\u001b[0m\u001b[0mi\u001b[0m\u001b[0;34m]\u001b[0m\u001b[0;34m,\u001b[0m\u001b[0;34m\u001b[0m\u001b[0;34m\u001b[0m\u001b[0m\n\u001b[0;32m----> 6\u001b[0;31m         num_train_class_k=train_frac * len(classes[i]))\n\u001b[0m",
      "\u001b[0;32m<ipython-input-101-8d705eb60a8a>\u001b[0m in \u001b[0;36mdata_div\u001b[0;34m(class_k, classes_idx_k, num_train_class_k)\u001b[0m\n\u001b[1;32m      1\u001b[0m \u001b[0;32mdef\u001b[0m \u001b[0mdata_div\u001b[0m\u001b[0;34m(\u001b[0m\u001b[0mclass_k\u001b[0m\u001b[0;34m,\u001b[0m \u001b[0mclasses_idx_k\u001b[0m\u001b[0;34m,\u001b[0m\u001b[0mnum_train_class_k\u001b[0m\u001b[0;34m)\u001b[0m\u001b[0;34m:\u001b[0m\u001b[0;34m\u001b[0m\u001b[0;34m\u001b[0m\u001b[0m\n\u001b[1;32m      2\u001b[0m     \u001b[0mnp\u001b[0m\u001b[0;34m.\u001b[0m\u001b[0mrandom\u001b[0m\u001b[0;34m.\u001b[0m\u001b[0mseed\u001b[0m\u001b[0;34m(\u001b[0m\u001b[0;36m0\u001b[0m\u001b[0;34m)\u001b[0m\u001b[0;34m\u001b[0m\u001b[0;34m\u001b[0m\u001b[0m\n\u001b[0;32m----> 3\u001b[0;31m     \u001b[0midx\u001b[0m \u001b[0;34m=\u001b[0m \u001b[0mnp\u001b[0m\u001b[0;34m.\u001b[0m\u001b[0mrandom\u001b[0m\u001b[0;34m.\u001b[0m\u001b[0mchoice\u001b[0m\u001b[0;34m(\u001b[0m\u001b[0mlen\u001b[0m\u001b[0;34m(\u001b[0m\u001b[0mclass_k\u001b[0m\u001b[0;34m)\u001b[0m\u001b[0;34m,\u001b[0m \u001b[0mnum_train_class_k\u001b[0m\u001b[0;34m,\u001b[0m \u001b[0mreplace\u001b[0m\u001b[0;34m=\u001b[0m\u001b[0;32mFalse\u001b[0m\u001b[0;34m)\u001b[0m\u001b[0;34m\u001b[0m\u001b[0;34m\u001b[0m\u001b[0m\n\u001b[0m\u001b[1;32m      4\u001b[0m     \u001b[0mtrain_patch\u001b[0m \u001b[0;34m=\u001b[0m \u001b[0;34m[\u001b[0m\u001b[0mclass_k\u001b[0m\u001b[0;34m[\u001b[0m\u001b[0mi\u001b[0m\u001b[0;34m]\u001b[0m \u001b[0;32mfor\u001b[0m \u001b[0mi\u001b[0m \u001b[0;32min\u001b[0m \u001b[0midx\u001b[0m\u001b[0;34m]\u001b[0m\u001b[0;34m\u001b[0m\u001b[0;34m\u001b[0m\u001b[0m\n\u001b[1;32m      5\u001b[0m     \u001b[0mtrain_idx\u001b[0m \u001b[0;34m=\u001b[0m \u001b[0;34m[\u001b[0m\u001b[0mclasses_idx_k\u001b[0m\u001b[0;34m[\u001b[0m\u001b[0mi\u001b[0m\u001b[0;34m]\u001b[0m \u001b[0;32mfor\u001b[0m \u001b[0mi\u001b[0m \u001b[0;32min\u001b[0m \u001b[0midx\u001b[0m\u001b[0;34m]\u001b[0m\u001b[0;34m\u001b[0m\u001b[0;34m\u001b[0m\u001b[0m\n",
      "\u001b[0;32mmtrand.pyx\u001b[0m in \u001b[0;36mmtrand.RandomState.choice\u001b[0;34m()\u001b[0m\n",
      "\u001b[0;31mTypeError\u001b[0m: 'float' object cannot be interpreted as an integer"
     ]
    }
   ],
   "source": [
    "train_frac = 0.05\n",
    "for i in range(num_classes):\n",
    "    num_train_class_k = train_frac * \n",
    "    train_patch, train_idx, test_patch, test_idx = data_div(\n",
    "        class_k=classes[i],\n",
    "        classes_idx_k=classes_idx[i], \n",
    "        num_train_class_k=train_frac * len(classes[i]))"
   ]
  },
  {
   "cell_type": "code",
   "execution_count": null,
   "metadata": {},
   "outputs": [],
   "source": []
  }
 ],
 "metadata": {
  "kernelspec": {
   "display_name": "Python 3",
   "language": "python",
   "name": "python3"
  },
  "language_info": {
   "codemirror_mode": {
    "name": "ipython",
    "version": 3
   },
   "file_extension": ".py",
   "mimetype": "text/x-python",
   "name": "python",
   "nbconvert_exporter": "python",
   "pygments_lexer": "ipython3",
   "version": "3.6.7"
  }
 },
 "nbformat": 4,
 "nbformat_minor": 2
}
