{
 "cells": [
  {
   "cell_type": "code",
   "execution_count": 5,
   "metadata": {},
   "outputs": [],
   "source": [
    "# from tensorflow.keras.preprocessing.image import ImageDataGenerator\n",
    "\n",
    "# train_datagen = ImageDataGenerator(rescale=1/255)\n",
    "\n",
    "# train_generator = train_datagen.flow_from_directory(\n",
    "#   '/tmp/horse-or-human/',\n",
    "#     target_size=(300,300),\n",
    "#     batch_size=128,\n",
    "#     class_mode='binary'\n",
    "# )"
   ]
  },
  {
   "cell_type": "code",
   "execution_count": 1,
   "metadata": {},
   "outputs": [],
   "source": [
    "import pandas as pd\n",
    "import numpy as np\n",
    "import os"
   ]
  },
  {
   "cell_type": "code",
   "execution_count": 2,
   "metadata": {},
   "outputs": [],
   "source": [
    "labels = pd.read_csv(\"../genki4k/labels.txt\", sep=' ', header=None)"
   ]
  },
  {
   "cell_type": "code",
   "execution_count": 3,
   "metadata": {},
   "outputs": [],
   "source": [
    "labels = np.array(labels[0])"
   ]
  },
  {
   "cell_type": "code",
   "execution_count": 4,
   "metadata": {},
   "outputs": [
    {
     "data": {
      "text/plain": [
       "array([1, 1, 1, ..., 0, 0, 0])"
      ]
     },
     "execution_count": 4,
     "metadata": {},
     "output_type": "execute_result"
    }
   ],
   "source": [
    "labels"
   ]
  },
  {
   "cell_type": "code",
   "execution_count": 5,
   "metadata": {},
   "outputs": [],
   "source": [
    "data_path = [i for i in os.listdir(\"../genki4k/files/\")]\n",
    "data_path.sort()\n",
    "data_path = np.array(data_path)"
   ]
  },
  {
   "cell_type": "code",
   "execution_count": 6,
   "metadata": {},
   "outputs": [
    {
     "data": {
      "text/plain": [
       "array(['file0001.jpg', 'file0002.jpg', 'file0003.jpg', ...,\n",
       "       'file3998.jpg', 'file3999.jpg', 'file4000.jpg'], dtype='<U12')"
      ]
     },
     "execution_count": 6,
     "metadata": {},
     "output_type": "execute_result"
    }
   ],
   "source": [
    "data_path"
   ]
  },
  {
   "cell_type": "code",
   "execution_count": 7,
   "metadata": {},
   "outputs": [
    {
     "data": {
      "text/plain": [
       "(2162,)"
      ]
     },
     "execution_count": 7,
     "metadata": {},
     "output_type": "execute_result"
    }
   ],
   "source": [
    "data_path[labels==0].shape\n",
    "data_path[labels==1].shape"
   ]
  },
  {
   "cell_type": "markdown",
   "metadata": {},
   "source": [
    "## Detect face in img with haar"
   ]
  },
  {
   "cell_type": "code",
   "execution_count": 49,
   "metadata": {},
   "outputs": [],
   "source": [
    "import cv2"
   ]
  },
  {
   "cell_type": "code",
   "execution_count": 73,
   "metadata": {},
   "outputs": [
    {
     "name": "stdout",
     "output_type": "stream",
     "text": [
      "../genki4k/files/file0063.jpg\n",
      "../genki4k/files/file0270.jpg\n",
      "../genki4k/files/file0291.jpg\n",
      "../genki4k/files/file0331.jpg\n",
      "../genki4k/files/file0335.jpg\n",
      "../genki4k/files/file0421.jpg\n",
      "../genki4k/files/file0426.jpg\n",
      "../genki4k/files/file0454.jpg\n",
      "../genki4k/files/file0507.jpg\n",
      "../genki4k/files/file0520.jpg\n",
      "../genki4k/files/file0655.jpg\n",
      "../genki4k/files/file0694.jpg\n",
      "../genki4k/files/file0696.jpg\n",
      "../genki4k/files/file0731.jpg\n",
      "../genki4k/files/file0740.jpg\n",
      "../genki4k/files/file0778.jpg\n",
      "../genki4k/files/file0839.jpg\n",
      "../genki4k/files/file1016.jpg\n",
      "../genki4k/files/file1069.jpg\n",
      "../genki4k/files/file1137.jpg\n",
      "../genki4k/files/file1144.jpg\n",
      "../genki4k/files/file1313.jpg\n",
      "../genki4k/files/file1509.jpg\n",
      "../genki4k/files/file1516.jpg\n",
      "../genki4k/files/file1607.jpg\n",
      "../genki4k/files/file1727.jpg\n",
      "../genki4k/files/file1741.jpg\n",
      "../genki4k/files/file1829.jpg\n",
      "../genki4k/files/file1837.jpg\n",
      "../genki4k/files/file1924.jpg\n",
      "../genki4k/files/file1946.jpg\n",
      "../genki4k/files/file2170.jpg\n",
      "../genki4k/files/file2219.jpg\n",
      "../genki4k/files/file2236.jpg\n",
      "../genki4k/files/file2298.jpg\n",
      "../genki4k/files/file2306.jpg\n",
      "../genki4k/files/file2315.jpg\n",
      "../genki4k/files/file2345.jpg\n",
      "../genki4k/files/file2369.jpg\n",
      "../genki4k/files/file2370.jpg\n",
      "../genki4k/files/file2377.jpg\n",
      "../genki4k/files/file2447.jpg\n",
      "../genki4k/files/file2473.jpg\n",
      "../genki4k/files/file2475.jpg\n",
      "../genki4k/files/file2487.jpg\n",
      "../genki4k/files/file2502.jpg\n",
      "../genki4k/files/file2507.jpg\n",
      "../genki4k/files/file2511.jpg\n",
      "../genki4k/files/file2515.jpg\n",
      "../genki4k/files/file2524.jpg\n",
      "../genki4k/files/file2586.jpg\n",
      "../genki4k/files/file2597.jpg\n",
      "../genki4k/files/file2607.jpg\n",
      "../genki4k/files/file2636.jpg\n",
      "../genki4k/files/file2686.jpg\n",
      "../genki4k/files/file2690.jpg\n",
      "../genki4k/files/file2714.jpg\n",
      "../genki4k/files/file2718.jpg\n",
      "../genki4k/files/file2720.jpg\n",
      "../genki4k/files/file2722.jpg\n",
      "../genki4k/files/file2728.jpg\n",
      "../genki4k/files/file2774.jpg\n",
      "../genki4k/files/file2793.jpg\n",
      "../genki4k/files/file2822.jpg\n",
      "../genki4k/files/file2823.jpg\n",
      "../genki4k/files/file2827.jpg\n",
      "../genki4k/files/file2835.jpg\n",
      "../genki4k/files/file2836.jpg\n",
      "../genki4k/files/file2876.jpg\n",
      "../genki4k/files/file2894.jpg\n",
      "../genki4k/files/file2902.jpg\n",
      "../genki4k/files/file2956.jpg\n",
      "../genki4k/files/file2991.jpg\n",
      "../genki4k/files/file3046.jpg\n",
      "../genki4k/files/file3059.jpg\n",
      "../genki4k/files/file3118.jpg\n",
      "../genki4k/files/file3128.jpg\n",
      "../genki4k/files/file3165.jpg\n",
      "../genki4k/files/file3171.jpg\n",
      "../genki4k/files/file3213.jpg\n",
      "../genki4k/files/file3215.jpg\n",
      "../genki4k/files/file3223.jpg\n",
      "../genki4k/files/file3272.jpg\n",
      "../genki4k/files/file3303.jpg\n",
      "../genki4k/files/file3322.jpg\n",
      "../genki4k/files/file3325.jpg\n",
      "../genki4k/files/file3330.jpg\n",
      "../genki4k/files/file3355.jpg\n",
      "../genki4k/files/file3369.jpg\n",
      "../genki4k/files/file3385.jpg\n",
      "../genki4k/files/file3387.jpg\n",
      "../genki4k/files/file3417.jpg\n",
      "../genki4k/files/file3426.jpg\n",
      "../genki4k/files/file3516.jpg\n",
      "../genki4k/files/file3523.jpg\n",
      "../genki4k/files/file3529.jpg\n",
      "../genki4k/files/file3554.jpg\n",
      "../genki4k/files/file3568.jpg\n",
      "../genki4k/files/file3583.jpg\n",
      "../genki4k/files/file3589.jpg\n",
      "../genki4k/files/file3644.jpg\n",
      "../genki4k/files/file3667.jpg\n",
      "../genki4k/files/file3678.jpg\n",
      "../genki4k/files/file3690.jpg\n",
      "../genki4k/files/file3706.jpg\n",
      "../genki4k/files/file3724.jpg\n",
      "../genki4k/files/file3762.jpg\n",
      "../genki4k/files/file3818.jpg\n",
      "../genki4k/files/file3822.jpg\n",
      "../genki4k/files/file3832.jpg\n",
      "../genki4k/files/file3930.jpg\n",
      "../genki4k/files/file3932.jpg\n",
      "../genki4k/files/file3950.jpg\n",
      "../genki4k/files/file3970.jpg\n",
      "../genki4k/files/file3972.jpg\n",
      "../genki4k/files/file3988.jpg\n"
     ]
    }
   ],
   "source": [
    "import cv2\n",
    "import face_recognition\n",
    "import cv2\n",
    "def crop_face(path):\n",
    "    image = face_recognition.load_image_file(path)\n",
    "    face_locations = face_recognition.face_locations(image, model='cnn')\n",
    "    return image[idx[0]:idx[2], idx[3]:idx[1]]\n",
    "\n",
    "def get_all_face():\n",
    "    for k, v in enumerate(data_path):\n",
    "        img = crop_face('../genki4k/files/' + v)\n",
    "        cv2.imwrite('../genki4k/data/' + v, img)\n",
    "\n",
    "def crop_face(path):\n",
    "    image = face_recognition.load_image_file(path)\n",
    "    face_locations = face_recognition.face_locations(image)\n",
    "#     print(face_locations)\n",
    "    if len(face_locations)==0:\n",
    "        print(path)\n",
    "    return image[idx[0]:idx[2], idx[3]:idx[1]]\n",
    "\n",
    "get_all_face()"
   ]
  },
  {
   "cell_type": "code",
   "execution_count": null,
   "metadata": {},
   "outputs": [],
   "source": []
  },
  {
   "cell_type": "code",
   "execution_count": null,
   "metadata": {},
   "outputs": [],
   "source": []
  },
  {
   "cell_type": "code",
   "execution_count": 72,
   "metadata": {},
   "outputs": [
    {
     "data": {
      "text/plain": [
       "0"
      ]
     },
     "execution_count": 72,
     "metadata": {},
     "output_type": "execute_result"
    }
   ],
   "source": [
    "len([])"
   ]
  },
  {
   "cell_type": "code",
   "execution_count": null,
   "metadata": {},
   "outputs": [],
   "source": []
  }
 ],
 "metadata": {
  "kernelspec": {
   "display_name": "Python 3",
   "language": "python",
   "name": "python3"
  },
  "language_info": {
   "codemirror_mode": {
    "name": "ipython",
    "version": 3
   },
   "file_extension": ".py",
   "mimetype": "text/x-python",
   "name": "python",
   "nbconvert_exporter": "python",
   "pygments_lexer": "ipython3",
   "version": "3.6.7"
  }
 },
 "nbformat": 4,
 "nbformat_minor": 2
}
